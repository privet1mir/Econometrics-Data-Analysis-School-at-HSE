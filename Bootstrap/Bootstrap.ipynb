{
  "nbformat": 4,
  "nbformat_minor": 0,
  "metadata": {
    "colab": {
      "provenance": []
    },
    "kernelspec": {
      "name": "python3",
      "display_name": "Python 3"
    },
    "language_info": {
      "name": "python"
    }
  },
  "cells": [
    {
      "cell_type": "markdown",
      "source": [
        "## How we can use bootstrap?"
      ],
      "metadata": {
        "id": "tC7mJXRDUtBT"
      }
    },
    {
      "cell_type": "code",
      "source": [
        "import numpy as np\n",
        "import matplotlib.pyplot as plt\n",
        "import seaborn as sns"
      ],
      "metadata": {
        "id": "QwuwEGAVymzp"
      },
      "execution_count": null,
      "outputs": []
    },
    {
      "cell_type": "code",
      "source": [
        "!pip install arch\n",
        "from arch.bootstrap import IIDBootstrap, IndependentSamplesBootstrap"
      ],
      "metadata": {
        "colab": {
          "base_uri": "https://localhost:8080/"
        },
        "id": "L-D4fEE20Z_M",
        "outputId": "fed0599c-276d-43fc-a9f6-e6afd5229339"
      },
      "execution_count": null,
      "outputs": [
        {
          "output_type": "stream",
          "name": "stdout",
          "text": [
            "Collecting arch\n",
            "  Downloading arch-6.2.0-cp310-cp310-manylinux_2_17_x86_64.manylinux2014_x86_64.whl (981 kB)\n",
            "\u001b[2K     \u001b[90m━━━━━━━━━━━━━━━━━━━━━━━━━━━━━━━━━━━━━━━━\u001b[0m \u001b[32m981.7/981.7 kB\u001b[0m \u001b[31m11.6 MB/s\u001b[0m eta \u001b[36m0:00:00\u001b[0m\n",
            "\u001b[?25hRequirement already satisfied: numpy>=1.19 in /usr/local/lib/python3.10/dist-packages (from arch) (1.23.5)\n",
            "Requirement already satisfied: scipy>=1.5 in /usr/local/lib/python3.10/dist-packages (from arch) (1.11.3)\n",
            "Requirement already satisfied: pandas>=1.1 in /usr/local/lib/python3.10/dist-packages (from arch) (1.5.3)\n",
            "Requirement already satisfied: statsmodels>=0.12 in /usr/local/lib/python3.10/dist-packages (from arch) (0.14.0)\n",
            "Requirement already satisfied: python-dateutil>=2.8.1 in /usr/local/lib/python3.10/dist-packages (from pandas>=1.1->arch) (2.8.2)\n",
            "Requirement already satisfied: pytz>=2020.1 in /usr/local/lib/python3.10/dist-packages (from pandas>=1.1->arch) (2023.3.post1)\n",
            "Requirement already satisfied: patsy>=0.5.2 in /usr/local/lib/python3.10/dist-packages (from statsmodels>=0.12->arch) (0.5.3)\n",
            "Requirement already satisfied: packaging>=21.3 in /usr/local/lib/python3.10/dist-packages (from statsmodels>=0.12->arch) (23.2)\n",
            "Requirement already satisfied: six in /usr/local/lib/python3.10/dist-packages (from patsy>=0.5.2->statsmodels>=0.12->arch) (1.16.0)\n",
            "Installing collected packages: arch\n",
            "Successfully installed arch-6.2.0\n"
          ]
        }
      ]
    },
    {
      "cell_type": "markdown",
      "source": [
        "This project consists of two parts\n",
        "\n",
        "1. Writing bootstrap from scratch and obtaining the Laplace distribution parameters\n",
        "\n",
        "2. Applying bootstrap to real data to construct confidence interval of the mean"
      ],
      "metadata": {
        "id": "gU_gkg5-l_I-"
      }
    },
    {
      "cell_type": "markdown",
      "source": [
        "## Part 1\n"
      ],
      "metadata": {
        "id": "vs57-M-bmUcW"
      }
    },
    {
      "cell_type": "markdown",
      "source": [
        "## Data:\n",
        "\n",
        "Firstly let's create Laplace distribution sample with parameters $\\mu = 5$ и $b = 3$:\n",
        "\n",
        "$$\n",
        "f(x|\\mu, b) = \\frac{1}{2b}\\exp(-\\frac{|x - \\mu|}{b})\n",
        "$$"
      ],
      "metadata": {
        "id": "D_H6QO2xU302"
      }
    },
    {
      "cell_type": "code",
      "source": [
        "sample = np.random.laplace(loc=5, scale=3, size=100)"
      ],
      "metadata": {
        "id": "3Tln13RGyfHm"
      },
      "execution_count": null,
      "outputs": []
    },
    {
      "cell_type": "markdown",
      "source": [
        "## Bootstrap\n",
        "\n",
        "Let's sample n subsamples with a return from our sample and estimate $\\hat{\\mu}$ each of the subsamples using MLE estimation, which for [Laplace distribution](https://en.wikipedia.org/wiki/Laplace_distribution):\n",
        "\n",
        "$$\n",
        "\\hat{\\mu_i} = \\mathrm{median}(x_i)\n",
        "$$\n",
        "\n",
        "$x_i \\in$  $i-$ subsample, and final $\\mu$ of our initial sample we can estimate as the mean of n-subsamples:\n",
        "\n",
        "$$\n",
        "\\mu = \\frac{1}{n}\\sum_{i=1}^{n} \\hat{\\mu_i}\n",
        "$$\n",
        "\n",
        "\n",
        "We can do the same thing for $\\hat{b}$:\n",
        "$$\n",
        "\\hat{b_i} = \\frac{1}{k} \\sum_{i = 1}^{k} |x_i - \\hat{\\mu}^k|\n",
        "$$\n",
        "k - size of subsample. $\\hat{\\mu}^k$ - it's median.\n",
        "\n",
        "Estimation of $b$ we can find as:\n",
        "\n",
        "$$\n",
        "b = \\frac{1}{n}\\sum_{i=1}^{n} \\hat{b_i}\n",
        "$$"
      ],
      "metadata": {
        "id": "BlTvDp3hyzs6"
      }
    },
    {
      "cell_type": "code",
      "source": [
        "class Bootstrap_Laplace:\n",
        "\n",
        "    def __init__(self, sample, n):\n",
        "\n",
        "        self.sample = sample\n",
        "        self.n = n\n",
        "\n",
        "    def sampling(self):\n",
        "        #_sub_samples generation\n",
        "        samples = [np.random.choice(self.sample, 100, replace=True) for i in range(self.n)]\n",
        "\n",
        "        return samples\n",
        "\n",
        "    def loc_scale_observing(self):\n",
        "        #parameters estimation\n",
        "        samples = self.sampling()\n",
        "        means = [np.median(samples[i]) for i in range(len(samples))]\n",
        "        scales = [(1/len(samples[0]))*sum([abs(x - means[i]) for x in samples[i]]) for i in range(len(samples))]\n",
        "\n",
        "        return np.mean(means), np.mean(scales)"
      ],
      "metadata": {
        "id": "Be59DqHUy19Z"
      },
      "execution_count": null,
      "outputs": []
    },
    {
      "cell_type": "code",
      "source": [
        "booststrap = Bootstrap_Laplace(sample, 1000)"
      ],
      "metadata": {
        "id": "aoS6snXR0zW7"
      },
      "execution_count": null,
      "outputs": []
    },
    {
      "cell_type": "code",
      "source": [
        "mu, b = booststrap.loc_scale_observing()\n",
        "print(f'for our distribution we have: 𝜇 = {mu} and b = {b}')"
      ],
      "metadata": {
        "colab": {
          "base_uri": "https://localhost:8080/"
        },
        "id": "8KJ7fHKk92ib",
        "outputId": "fb85d63e-ed89-4418-f9c3-89364837ec44"
      },
      "execution_count": null,
      "outputs": [
        {
          "output_type": "stream",
          "name": "stdout",
          "text": [
            "for our distribution we have: 𝜇 = 4.854881482582119 and b = 3.004308480180321\n"
          ]
        }
      ]
    },
    {
      "cell_type": "markdown",
      "source": [
        "We can see that our estimation $\\mu$ is truly: $$\\mu_{real} = 5 \\text{ versus } \\mu_{estimated} \\approx 4.86$$\n",
        "\n",
        "We can say the same thing of $b$: $$b_{real} = 3 \\text{ versus } b_{estimated} \\approx 3.01$$"
      ],
      "metadata": {
        "id": "8yaoVL5S1CjG"
      }
    },
    {
      "cell_type": "markdown",
      "source": [
        "## Part 2"
      ],
      "metadata": {
        "id": "CeztYwuf1C_9"
      }
    },
    {
      "cell_type": "markdown",
      "source": [
        "## Data:\n",
        "\n",
        "I use [go to college dataset](https://www.kaggle.com/datasets/saddamazyazy/go-to-college-dataset) from kaggle :)\n",
        "\n",
        "<img src=https://wp.dailybruin.com/images/2019/08/gap-years--910x1024.png width=\"500\" height=\"500\">"
      ],
      "metadata": {
        "id": "ACm8VColmvjp"
      }
    },
    {
      "cell_type": "code",
      "source": [
        "import pandas as pd"
      ],
      "metadata": {
        "id": "UTuMfnIhnobf"
      },
      "execution_count": null,
      "outputs": []
    },
    {
      "cell_type": "code",
      "source": [
        "data = pd.read_csv('data.csv')\n",
        "data.head()"
      ],
      "metadata": {
        "colab": {
          "base_uri": "https://localhost:8080/",
          "height": 206
        },
        "id": "H5Wuu8LYos4K",
        "outputId": "7bfbfe30-788a-4868-ece6-b78abc0258f9"
      },
      "execution_count": null,
      "outputs": [
        {
          "output_type": "execute_result",
          "data": {
            "text/plain": [
              "  type_school school_accreditation  gender         interest residence  \\\n",
              "0    Academic                    A    Male  Less Interested     Urban   \n",
              "1    Academic                    A    Male  Less Interested     Urban   \n",
              "2    Academic                    B  Female  Very Interested     Urban   \n",
              "3  Vocational                    B    Male  Very Interested     Rural   \n",
              "4    Academic                    A  Female  Very Interested     Urban   \n",
              "\n",
              "   parent_age  parent_salary  house_area  average_grades  \\\n",
              "0          56        6950000        83.0           84.09   \n",
              "1          57        4410000        76.8           86.91   \n",
              "2          50        6500000        80.6           87.43   \n",
              "3          49        6600000        78.2           82.12   \n",
              "4          57        5250000        75.1           86.79   \n",
              "\n",
              "   parent_was_in_college  will_go_to_college  \n",
              "0                  False                True  \n",
              "1                  False                True  \n",
              "2                  False                True  \n",
              "3                   True                True  \n",
              "4                  False               False  "
            ],
            "text/html": [
              "\n",
              "  <div id=\"df-7f42cd45-f011-4dd4-875f-5eb99a69b714\" class=\"colab-df-container\">\n",
              "    <div>\n",
              "<style scoped>\n",
              "    .dataframe tbody tr th:only-of-type {\n",
              "        vertical-align: middle;\n",
              "    }\n",
              "\n",
              "    .dataframe tbody tr th {\n",
              "        vertical-align: top;\n",
              "    }\n",
              "\n",
              "    .dataframe thead th {\n",
              "        text-align: right;\n",
              "    }\n",
              "</style>\n",
              "<table border=\"1\" class=\"dataframe\">\n",
              "  <thead>\n",
              "    <tr style=\"text-align: right;\">\n",
              "      <th></th>\n",
              "      <th>type_school</th>\n",
              "      <th>school_accreditation</th>\n",
              "      <th>gender</th>\n",
              "      <th>interest</th>\n",
              "      <th>residence</th>\n",
              "      <th>parent_age</th>\n",
              "      <th>parent_salary</th>\n",
              "      <th>house_area</th>\n",
              "      <th>average_grades</th>\n",
              "      <th>parent_was_in_college</th>\n",
              "      <th>will_go_to_college</th>\n",
              "    </tr>\n",
              "  </thead>\n",
              "  <tbody>\n",
              "    <tr>\n",
              "      <th>0</th>\n",
              "      <td>Academic</td>\n",
              "      <td>A</td>\n",
              "      <td>Male</td>\n",
              "      <td>Less Interested</td>\n",
              "      <td>Urban</td>\n",
              "      <td>56</td>\n",
              "      <td>6950000</td>\n",
              "      <td>83.0</td>\n",
              "      <td>84.09</td>\n",
              "      <td>False</td>\n",
              "      <td>True</td>\n",
              "    </tr>\n",
              "    <tr>\n",
              "      <th>1</th>\n",
              "      <td>Academic</td>\n",
              "      <td>A</td>\n",
              "      <td>Male</td>\n",
              "      <td>Less Interested</td>\n",
              "      <td>Urban</td>\n",
              "      <td>57</td>\n",
              "      <td>4410000</td>\n",
              "      <td>76.8</td>\n",
              "      <td>86.91</td>\n",
              "      <td>False</td>\n",
              "      <td>True</td>\n",
              "    </tr>\n",
              "    <tr>\n",
              "      <th>2</th>\n",
              "      <td>Academic</td>\n",
              "      <td>B</td>\n",
              "      <td>Female</td>\n",
              "      <td>Very Interested</td>\n",
              "      <td>Urban</td>\n",
              "      <td>50</td>\n",
              "      <td>6500000</td>\n",
              "      <td>80.6</td>\n",
              "      <td>87.43</td>\n",
              "      <td>False</td>\n",
              "      <td>True</td>\n",
              "    </tr>\n",
              "    <tr>\n",
              "      <th>3</th>\n",
              "      <td>Vocational</td>\n",
              "      <td>B</td>\n",
              "      <td>Male</td>\n",
              "      <td>Very Interested</td>\n",
              "      <td>Rural</td>\n",
              "      <td>49</td>\n",
              "      <td>6600000</td>\n",
              "      <td>78.2</td>\n",
              "      <td>82.12</td>\n",
              "      <td>True</td>\n",
              "      <td>True</td>\n",
              "    </tr>\n",
              "    <tr>\n",
              "      <th>4</th>\n",
              "      <td>Academic</td>\n",
              "      <td>A</td>\n",
              "      <td>Female</td>\n",
              "      <td>Very Interested</td>\n",
              "      <td>Urban</td>\n",
              "      <td>57</td>\n",
              "      <td>5250000</td>\n",
              "      <td>75.1</td>\n",
              "      <td>86.79</td>\n",
              "      <td>False</td>\n",
              "      <td>False</td>\n",
              "    </tr>\n",
              "  </tbody>\n",
              "</table>\n",
              "</div>\n",
              "    <div class=\"colab-df-buttons\">\n",
              "\n",
              "  <div class=\"colab-df-container\">\n",
              "    <button class=\"colab-df-convert\" onclick=\"convertToInteractive('df-7f42cd45-f011-4dd4-875f-5eb99a69b714')\"\n",
              "            title=\"Convert this dataframe to an interactive table.\"\n",
              "            style=\"display:none;\">\n",
              "\n",
              "  <svg xmlns=\"http://www.w3.org/2000/svg\" height=\"24px\" viewBox=\"0 -960 960 960\">\n",
              "    <path d=\"M120-120v-720h720v720H120Zm60-500h600v-160H180v160Zm220 220h160v-160H400v160Zm0 220h160v-160H400v160ZM180-400h160v-160H180v160Zm440 0h160v-160H620v160ZM180-180h160v-160H180v160Zm440 0h160v-160H620v160Z\"/>\n",
              "  </svg>\n",
              "    </button>\n",
              "\n",
              "  <style>\n",
              "    .colab-df-container {\n",
              "      display:flex;\n",
              "      gap: 12px;\n",
              "    }\n",
              "\n",
              "    .colab-df-convert {\n",
              "      background-color: #E8F0FE;\n",
              "      border: none;\n",
              "      border-radius: 50%;\n",
              "      cursor: pointer;\n",
              "      display: none;\n",
              "      fill: #1967D2;\n",
              "      height: 32px;\n",
              "      padding: 0 0 0 0;\n",
              "      width: 32px;\n",
              "    }\n",
              "\n",
              "    .colab-df-convert:hover {\n",
              "      background-color: #E2EBFA;\n",
              "      box-shadow: 0px 1px 2px rgba(60, 64, 67, 0.3), 0px 1px 3px 1px rgba(60, 64, 67, 0.15);\n",
              "      fill: #174EA6;\n",
              "    }\n",
              "\n",
              "    .colab-df-buttons div {\n",
              "      margin-bottom: 4px;\n",
              "    }\n",
              "\n",
              "    [theme=dark] .colab-df-convert {\n",
              "      background-color: #3B4455;\n",
              "      fill: #D2E3FC;\n",
              "    }\n",
              "\n",
              "    [theme=dark] .colab-df-convert:hover {\n",
              "      background-color: #434B5C;\n",
              "      box-shadow: 0px 1px 3px 1px rgba(0, 0, 0, 0.15);\n",
              "      filter: drop-shadow(0px 1px 2px rgba(0, 0, 0, 0.3));\n",
              "      fill: #FFFFFF;\n",
              "    }\n",
              "  </style>\n",
              "\n",
              "    <script>\n",
              "      const buttonEl =\n",
              "        document.querySelector('#df-7f42cd45-f011-4dd4-875f-5eb99a69b714 button.colab-df-convert');\n",
              "      buttonEl.style.display =\n",
              "        google.colab.kernel.accessAllowed ? 'block' : 'none';\n",
              "\n",
              "      async function convertToInteractive(key) {\n",
              "        const element = document.querySelector('#df-7f42cd45-f011-4dd4-875f-5eb99a69b714');\n",
              "        const dataTable =\n",
              "          await google.colab.kernel.invokeFunction('convertToInteractive',\n",
              "                                                    [key], {});\n",
              "        if (!dataTable) return;\n",
              "\n",
              "        const docLinkHtml = 'Like what you see? Visit the ' +\n",
              "          '<a target=\"_blank\" href=https://colab.research.google.com/notebooks/data_table.ipynb>data table notebook</a>'\n",
              "          + ' to learn more about interactive tables.';\n",
              "        element.innerHTML = '';\n",
              "        dataTable['output_type'] = 'display_data';\n",
              "        await google.colab.output.renderOutput(dataTable, element);\n",
              "        const docLink = document.createElement('div');\n",
              "        docLink.innerHTML = docLinkHtml;\n",
              "        element.appendChild(docLink);\n",
              "      }\n",
              "    </script>\n",
              "  </div>\n",
              "\n",
              "\n",
              "<div id=\"df-7b9e2184-82e1-42ae-8be1-a668c2b05970\">\n",
              "  <button class=\"colab-df-quickchart\" onclick=\"quickchart('df-7b9e2184-82e1-42ae-8be1-a668c2b05970')\"\n",
              "            title=\"Suggest charts\"\n",
              "            style=\"display:none;\">\n",
              "\n",
              "<svg xmlns=\"http://www.w3.org/2000/svg\" height=\"24px\"viewBox=\"0 0 24 24\"\n",
              "     width=\"24px\">\n",
              "    <g>\n",
              "        <path d=\"M19 3H5c-1.1 0-2 .9-2 2v14c0 1.1.9 2 2 2h14c1.1 0 2-.9 2-2V5c0-1.1-.9-2-2-2zM9 17H7v-7h2v7zm4 0h-2V7h2v10zm4 0h-2v-4h2v4z\"/>\n",
              "    </g>\n",
              "</svg>\n",
              "  </button>\n",
              "\n",
              "<style>\n",
              "  .colab-df-quickchart {\n",
              "      --bg-color: #E8F0FE;\n",
              "      --fill-color: #1967D2;\n",
              "      --hover-bg-color: #E2EBFA;\n",
              "      --hover-fill-color: #174EA6;\n",
              "      --disabled-fill-color: #AAA;\n",
              "      --disabled-bg-color: #DDD;\n",
              "  }\n",
              "\n",
              "  [theme=dark] .colab-df-quickchart {\n",
              "      --bg-color: #3B4455;\n",
              "      --fill-color: #D2E3FC;\n",
              "      --hover-bg-color: #434B5C;\n",
              "      --hover-fill-color: #FFFFFF;\n",
              "      --disabled-bg-color: #3B4455;\n",
              "      --disabled-fill-color: #666;\n",
              "  }\n",
              "\n",
              "  .colab-df-quickchart {\n",
              "    background-color: var(--bg-color);\n",
              "    border: none;\n",
              "    border-radius: 50%;\n",
              "    cursor: pointer;\n",
              "    display: none;\n",
              "    fill: var(--fill-color);\n",
              "    height: 32px;\n",
              "    padding: 0;\n",
              "    width: 32px;\n",
              "  }\n",
              "\n",
              "  .colab-df-quickchart:hover {\n",
              "    background-color: var(--hover-bg-color);\n",
              "    box-shadow: 0 1px 2px rgba(60, 64, 67, 0.3), 0 1px 3px 1px rgba(60, 64, 67, 0.15);\n",
              "    fill: var(--button-hover-fill-color);\n",
              "  }\n",
              "\n",
              "  .colab-df-quickchart-complete:disabled,\n",
              "  .colab-df-quickchart-complete:disabled:hover {\n",
              "    background-color: var(--disabled-bg-color);\n",
              "    fill: var(--disabled-fill-color);\n",
              "    box-shadow: none;\n",
              "  }\n",
              "\n",
              "  .colab-df-spinner {\n",
              "    border: 2px solid var(--fill-color);\n",
              "    border-color: transparent;\n",
              "    border-bottom-color: var(--fill-color);\n",
              "    animation:\n",
              "      spin 1s steps(1) infinite;\n",
              "  }\n",
              "\n",
              "  @keyframes spin {\n",
              "    0% {\n",
              "      border-color: transparent;\n",
              "      border-bottom-color: var(--fill-color);\n",
              "      border-left-color: var(--fill-color);\n",
              "    }\n",
              "    20% {\n",
              "      border-color: transparent;\n",
              "      border-left-color: var(--fill-color);\n",
              "      border-top-color: var(--fill-color);\n",
              "    }\n",
              "    30% {\n",
              "      border-color: transparent;\n",
              "      border-left-color: var(--fill-color);\n",
              "      border-top-color: var(--fill-color);\n",
              "      border-right-color: var(--fill-color);\n",
              "    }\n",
              "    40% {\n",
              "      border-color: transparent;\n",
              "      border-right-color: var(--fill-color);\n",
              "      border-top-color: var(--fill-color);\n",
              "    }\n",
              "    60% {\n",
              "      border-color: transparent;\n",
              "      border-right-color: var(--fill-color);\n",
              "    }\n",
              "    80% {\n",
              "      border-color: transparent;\n",
              "      border-right-color: var(--fill-color);\n",
              "      border-bottom-color: var(--fill-color);\n",
              "    }\n",
              "    90% {\n",
              "      border-color: transparent;\n",
              "      border-bottom-color: var(--fill-color);\n",
              "    }\n",
              "  }\n",
              "</style>\n",
              "\n",
              "  <script>\n",
              "    async function quickchart(key) {\n",
              "      const quickchartButtonEl =\n",
              "        document.querySelector('#' + key + ' button');\n",
              "      quickchartButtonEl.disabled = true;  // To prevent multiple clicks.\n",
              "      quickchartButtonEl.classList.add('colab-df-spinner');\n",
              "      try {\n",
              "        const charts = await google.colab.kernel.invokeFunction(\n",
              "            'suggestCharts', [key], {});\n",
              "      } catch (error) {\n",
              "        console.error('Error during call to suggestCharts:', error);\n",
              "      }\n",
              "      quickchartButtonEl.classList.remove('colab-df-spinner');\n",
              "      quickchartButtonEl.classList.add('colab-df-quickchart-complete');\n",
              "    }\n",
              "    (() => {\n",
              "      let quickchartButtonEl =\n",
              "        document.querySelector('#df-7b9e2184-82e1-42ae-8be1-a668c2b05970 button');\n",
              "      quickchartButtonEl.style.display =\n",
              "        google.colab.kernel.accessAllowed ? 'block' : 'none';\n",
              "    })();\n",
              "  </script>\n",
              "</div>\n",
              "    </div>\n",
              "  </div>\n"
            ]
          },
          "metadata": {},
          "execution_count": 155
        }
      ]
    },
    {
      "cell_type": "markdown",
      "source": [
        "We are interesting if the person will go to college or not. We can imagine that his grades can influence this. Let's explore!  "
      ],
      "metadata": {
        "id": "TqDAQH2rpcs4"
      }
    },
    {
      "cell_type": "code",
      "source": [
        "plt.style.use('ggplot')\n",
        "plt.rcParams['figure.figsize'] = 10, 6\n",
        "fig = sns.kdeplot(data=data, x='average_grades', hue='will_go_to_college', label = 'Go to college')\n",
        "fig.set(xlabel='Average grades', ylabel='Density')\n",
        "plt.show()"
      ],
      "metadata": {
        "colab": {
          "base_uri": "https://localhost:8080/",
          "height": 546
        },
        "id": "uxuWbPFjv6wk",
        "outputId": "3bd1c636-8fe0-4e29-c9bf-0bf22cfe776b"
      },
      "execution_count": null,
      "outputs": [
        {
          "output_type": "display_data",
          "data": {
            "text/plain": [
              "<Figure size 1000x600 with 1 Axes>"
            ],
            "image/png": "[encoded data removed]"
          },
          "metadata": {}
        }
      ]
    },
    {
      "cell_type": "markdown",
      "source": [
        "As expected college eplicant's graph is shifted to the right. Their average grades are higher. We can estimate each group the mean range of grades by constructing confidence intervals using bootstrap."
      ],
      "metadata": {
        "id": "3mZmBaRLwKXI"
      }
    },
    {
      "cell_type": "code",
      "source": [
        "#let's devide students into two groups: applicants (students) and not (gaps), each consists of their average grades\n",
        "\n",
        "students = data[data['will_go_to_college'] == True]['average_grades']\n",
        "gaps = data[data['will_go_to_college'] == False]['average_grades']"
      ],
      "metadata": {
        "id": "3IB5oKKSxM45"
      },
      "execution_count": null,
      "outputs": []
    },
    {
      "cell_type": "code",
      "source": [
        "#Final interval estimate of the average\n",
        "\n",
        "bs_students = IIDBootstrap(students, seed=111111)\n",
        "bs_gapes = IIDBootstrap(gaps, seed=111111)\n",
        "conf_ont_students = bs_students.conf_int(np.mean, method='percentile', reps=10000, size=0.95)\n",
        "conf_ont_gaps = bs_gapes.conf_int(np.mean, method='percentile', reps=10000, size=0.95)\n",
        "\n",
        "print(f'conf interval for average students score: from {conf_ont_students[0][0]} to {conf_ont_students[1][0]}')\n",
        "print(f'conf interval for average gaps score: from {conf_ont_gaps[0][0]} to {conf_ont_gaps[1][0]}')"
      ],
      "metadata": {
        "colab": {
          "base_uri": "https://localhost:8080/"
        },
        "id": "UitnkneyzTs2",
        "outputId": "df01c678-4dd1-4734-b492-87a13fc51e9a"
      },
      "execution_count": null,
      "outputs": [
        {
          "output_type": "stream",
          "name": "stdout",
          "text": [
            "conf interval for average students score: from 87.4914045 to 88.11904950000002\n",
            "conf interval for average gaps score: from 84.2109955 to 84.57082000000001\n"
          ]
        }
      ]
    },
    {
      "cell_type": "markdown",
      "source": [
        "As a result we can conclude that with 95% probability the average grade of future students is in range  $\\in (87.5, 88.1)$\n",
        "\n",
        "For gaps students: $\\in (84.2, 84.6)$\n",
        "\n",
        "Which is quite logical, the score of applicants is higher :)"
      ],
      "metadata": {
        "id": "Zag0iTDF1p-Q"
      }
    },
    {
      "cell_type": "code",
      "source": [],
      "metadata": {
        "id": "Fpgx1dJL21hR"
      },
      "execution_count": null,
      "outputs": []
    }
  ]
}